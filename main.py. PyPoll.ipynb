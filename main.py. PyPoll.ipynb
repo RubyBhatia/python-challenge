{
 "cells": [
  {
   "cell_type": "code",
   "execution_count": 2,
   "id": "4f87f829-4c63-4755-b349-9105ac65cd27",
   "metadata": {},
   "outputs": [
    {
     "name": "stdout",
     "output_type": "stream",
     "text": [
      "Election Results\n",
      "-------------------------\n",
      "Total Votes: 369711\n",
      "-------------------------\n",
      "Diana DeGette: 73.812% (272892)\n",
      "Charles Casper Stockham: 23.049% (85213)\n",
      "Raymon Anthony Doane: 3.139% (11606)\n",
      "-------------------------\n",
      "Winner: Diana DeGette\n",
      "-------------------------\n"
     ]
    }
   ],
   "source": [
    "import pandas as pd\n",
    "\n",
    "# Path to the CSV file (replacing backslashes with forward slashes)\n",
    "election_data_path = \"C:/repos/Mod-3/PyPoll/Resources/election_data.csv\"\n",
    "\n",
    "# Read the CSV file\n",
    "election_data = pd.read_csv(election_data_path)\n",
    "\n",
    "# Calculate the total number of votes\n",
    "total_votes = election_data['Ballot ID'].count()\n",
    "\n",
    "# Calculate the total number of votes each candidate received\n",
    "vote_counts = election_data['Candidate'].value_counts()\n",
    "\n",
    "# Calculate the percentage of votes each candidate received\n",
    "vote_percentages = (vote_counts / total_votes) * 100\n",
    "\n",
    "# Determine the winner of the election based on popular vote\n",
    "winner = vote_counts.idxmax()\n",
    "\n",
    "# Print the election results\n",
    "print(\"Election Results\")\n",
    "print(\"-------------------------\")\n",
    "print(f\"Total Votes: {total_votes}\")\n",
    "print(\"-------------------------\")\n",
    "for candidate, votes in vote_counts.items():\n",
    "    percentage = vote_percentages[candidate]\n",
    "    print(f\"{candidate}: {percentage:.3f}% ({votes})\")\n",
    "print(\"-------------------------\")\n",
    "print(f\"Winner: {winner}\")\n",
    "print(\"-------------------------\")\n"
   ]
  },
  {
   "cell_type": "code",
   "execution_count": null,
   "id": "4c55683c-7425-4bcb-9934-01002a38d34e",
   "metadata": {},
   "outputs": [],
   "source": []
  }
 ],
 "metadata": {
  "kernelspec": {
   "display_name": "Python 3 (ipykernel)",
   "language": "python",
   "name": "python3"
  },
  "language_info": {
   "codemirror_mode": {
    "name": "ipython",
    "version": 3
   },
   "file_extension": ".py",
   "mimetype": "text/x-python",
   "name": "python",
   "nbconvert_exporter": "python",
   "pygments_lexer": "ipython3",
   "version": "3.10.14"
  }
 },
 "nbformat": 4,
 "nbformat_minor": 5
}
