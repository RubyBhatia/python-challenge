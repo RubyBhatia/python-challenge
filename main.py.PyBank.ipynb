{
 "cells": [
  {
   "cell_type": "code",
   "execution_count": 1,
   "id": "94c12432-cc34-4ea2-8767-5f0b14b9a9da",
   "metadata": {},
   "outputs": [
    {
     "name": "stdout",
     "output_type": "stream",
     "text": [
      "['----------------------------']\n",
      "['Total Months: 86']\n",
      "['Total: $22564198']\n",
      "['Average Change: -8311.11']\n",
      "['Greatest Increase in Profits: Aug-16 ($1862002)']\n",
      "['Greatest Decrease in Profits: Feb-14 ($-1825558)']\n"
     ]
    }
   ],
   "source": [
    "import pandas as pd\n",
    "import os\n",
    "import csv\n",
    "\n",
    "# Read the entire file without skipping any rows\n",
    "budget_data_csv_path = r\"C:\\repos\\Mod-3\\PyBank\\Resources\\budget_data.csv\"\n",
    "\n",
    "# Define PyBank's variables\n",
    "months = []\n",
    "profit_loss_changes = []\n",
    "\n",
    "count_months = 0\n",
    "net_profit_loss = 0\n",
    "previous_month_profit_loss = 0\n",
    "current_month_profit_loss = 0\n",
    "profit_loss_change = 0\n",
    "\n",
    "# Open the CSV file and read its contents\n",
    "with open(budget_data_csv_path, 'r') as file:\n",
    "    csvreader = csv.reader(file)\n",
    "    next(csvreader)  # Skip the header row if present\n",
    "\n",
    "    # Process the CSV file as needed\n",
    "    for row in csvreader:\n",
    "        # Print each row\n",
    "        print(row)\n",
    "\n",
    "        # Ensure the row has the expected number of columns\n",
    "        if len(row) > 1:\n",
    "            # Count the total number of months\n",
    "            count_months += 1\n",
    "            \n",
    "            # Net total amount of \"Profit/Losses\" over the entire period\n",
    "            current_month_profit_loss = int(row[1])\n",
    "            net_profit_loss += current_month_profit_loss\n",
    "            months.append(row[0])\n",
    "\n",
    "            if count_months == 1:\n",
    "                # Make the value of previous month to be equal to current month\n",
    "                previous_month_profit_loss = current_month_profit_loss\n",
    "                continue\n",
    "                           \n",
    "           \n",
    "# Calculate the sum and average of the changes in \"Profit/Losses\" over the entire period\n",
    "if profit_loss_changes:\n",
    "    sum_profit_loss = sum(profit_loss_changes)\n",
    "    average_profit_loss = round(sum_profit_loss / len(profit_loss_changes), 2)\n",
    "    # Highest and lowest changes in \"Profit/Losses\" over the entire period\n",
    "    highest_change = max(profit_loss_changes)\n",
    "    lowest_change = min(profit_loss_changes)\n",
    "    # Locate the index value of highest and lowest changes in \"Profit/Losses\" over the entire period\n",
    "    highest_month_index = profit_loss_changes.index(highest_change)\n",
    "    lowest_month_index = profit_loss_changes.index(lowest_change)\n",
    "   \n",
    "else:\n",
    "    sum_profit_loss = 0\n",
    "    average_profit_loss = 0\n",
    "    highest_change = 0\n",
    "    lowest_change = 0\n",
    "    best_month = \"N/A\"\n",
    "    worst_month = \"N/A\"\n",
    "\n",
    "# Read the entire file without skipping any rows\n",
    "budget_data_raw = pd.read_csv(budget_data_csv_path, header=None)\n",
    "\n"
   ]
  },
  {
   "cell_type": "code",
   "execution_count": null,
   "id": "af4c1a5c-a434-4cde-8f22-462687b46054",
   "metadata": {},
   "outputs": [],
   "source": []
  }
 ],
 "metadata": {
  "kernelspec": {
   "display_name": "Python 3 (ipykernel)",
   "language": "python",
   "name": "python3"
  },
  "language_info": {
   "codemirror_mode": {
    "name": "ipython",
    "version": 3
   },
   "file_extension": ".py",
   "mimetype": "text/x-python",
   "name": "python",
   "nbconvert_exporter": "python",
   "pygments_lexer": "ipython3",
   "version": "3.10.14"
  }
 },
 "nbformat": 4,
 "nbformat_minor": 5
}
